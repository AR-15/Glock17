{
 "cells": [
  {
   "cell_type": "markdown",
   "id": "b00b5932",
   "metadata": {
    "papermill": {
     "duration": 0.008411,
     "end_time": "2023-10-09T12:08:56.837810",
     "exception": false,
     "start_time": "2023-10-09T12:08:56.829399",
     "status": "completed"
    },
    "tags": []
   },
   "source": [
    "# `Action Game Topic Analysis & Recommandation System`\n",
    "\n",
    "If you find this helpful, please consider sharing it and giving it an upvote! Your support is appreciated."
   ]
  },
  {
   "cell_type": "markdown",
   "id": "cc2a96a7",
   "metadata": {
    "papermill": {
     "duration": 0.007647,
     "end_time": "2023-10-09T12:08:56.853569",
     "exception": false,
     "start_time": "2023-10-09T12:08:56.845922",
     "status": "completed"
    },
    "tags": []
   },
   "source": [
    "![Action Game Analysis & Recommandations ](https://assets-prd.ignimgs.com/2022/08/10/top10fighting-1660101473258.jpg)"
   ]
  },
  {
   "cell_type": "code",
   "execution_count": 1,
   "id": "a7592b06",
   "metadata": {
    "execution": {
     "iopub.execute_input": "2023-10-09T12:08:56.882841Z",
     "iopub.status.busy": "2023-10-09T12:08:56.882210Z",
     "iopub.status.idle": "2023-10-09T12:08:58.986260Z",
     "shell.execute_reply": "2023-10-09T12:08:58.984876Z"
    },
    "papermill": {
     "duration": 2.125818,
     "end_time": "2023-10-09T12:08:58.988744",
     "exception": false,
     "start_time": "2023-10-09T12:08:56.862926",
     "status": "completed"
    },
    "tags": []
   },
   "outputs": [],
   "source": [
    "import pandas as pd\n",
    "from sklearn.feature_extraction.text import TfidfVectorizer\n",
    "from sklearn.metrics.pairwise import cosine_similarity\n",
    "from sklearn.feature_extraction.text import CountVectorizer\n",
    "from sklearn.decomposition import LatentDirichletAllocation\n",
    "from sklearn.decomposition import TruncatedSVD\n",
    "import random\n"
   ]
  },
  {
   "cell_type": "code",
   "execution_count": null,
   "id": "b65cd666",
   "metadata": {
    "papermill": {
     "duration": 0.009173,
     "end_time": "2023-10-09T12:08:59.007427",
     "exception": false,
     "start_time": "2023-10-09T12:08:58.998254",
     "status": "completed"
    },
    "tags": []
   },
   "outputs": [],
   "source": []
  },
  {
   "cell_type": "code",
   "execution_count": 2,
   "id": "0cb197d7",
   "metadata": {
    "execution": {
     "iopub.execute_input": "2023-10-09T12:08:59.026327Z",
     "iopub.status.busy": "2023-10-09T12:08:59.025445Z",
     "iopub.status.idle": "2023-10-09T12:08:59.182228Z",
     "shell.execute_reply": "2023-10-09T12:08:59.181452Z"
    },
    "papermill": {
     "duration": 0.16839,
     "end_time": "2023-10-09T12:08:59.184536",
     "exception": false,
     "start_time": "2023-10-09T12:08:59.016146",
     "status": "completed"
    },
    "tags": []
   },
   "outputs": [],
   "source": [
    "# Read the data file and adding back Popularity\n",
    "df = pd.read_csv(\"/kaggle/input/imdb-video-games-dataset/imdb_video_games.csv\", index_col=0)\n",
    "df = df.rename(columns={\"Unnamed: 0\": \"Popularity\"})"
   ]
  },
  {
   "cell_type": "markdown",
   "id": "ddf2cffb",
   "metadata": {
    "papermill": {
     "duration": 0.008017,
     "end_time": "2023-10-09T12:08:59.200691",
     "exception": false,
     "start_time": "2023-10-09T12:08:59.192674",
     "status": "completed"
    },
    "tags": []
   },
   "source": [
    "# Data preprocessing and engineering"
   ]
  },
  {
   "cell_type": "code",
   "execution_count": 3,
   "id": "fc63bbd5",
   "metadata": {
    "execution": {
     "iopub.execute_input": "2023-10-09T12:08:59.218341Z",
     "iopub.status.busy": "2023-10-09T12:08:59.217970Z",
     "iopub.status.idle": "2023-10-09T12:08:59.247317Z",
     "shell.execute_reply": "2023-10-09T12:08:59.246305Z"
    },
    "papermill": {
     "duration": 0.041291,
     "end_time": "2023-10-09T12:08:59.249912",
     "exception": false,
     "start_time": "2023-10-09T12:08:59.208621",
     "status": "completed"
    },
    "tags": []
   },
   "outputs": [
    {
     "data": {
      "text/html": [
       "<div>\n",
       "<style scoped>\n",
       "    .dataframe tbody tr th:only-of-type {\n",
       "        vertical-align: middle;\n",
       "    }\n",
       "\n",
       "    .dataframe tbody tr th {\n",
       "        vertical-align: top;\n",
       "    }\n",
       "\n",
       "    .dataframe thead th {\n",
       "        text-align: right;\n",
       "    }\n",
       "</style>\n",
       "<table border=\"1\" class=\"dataframe\">\n",
       "  <thead>\n",
       "    <tr style=\"text-align: right;\">\n",
       "      <th></th>\n",
       "      <th>Title</th>\n",
       "      <th>Genre</th>\n",
       "      <th>User Rating</th>\n",
       "      <th>Number of Votes</th>\n",
       "      <th>Runtime</th>\n",
       "      <th>Year</th>\n",
       "      <th>Summary</th>\n",
       "      <th>Director</th>\n",
       "      <th>Stars</th>\n",
       "      <th>Certificate</th>\n",
       "    </tr>\n",
       "    <tr>\n",
       "      <th>Popularity</th>\n",
       "      <th></th>\n",
       "      <th></th>\n",
       "      <th></th>\n",
       "      <th></th>\n",
       "      <th></th>\n",
       "      <th></th>\n",
       "      <th></th>\n",
       "      <th></th>\n",
       "      <th></th>\n",
       "      <th></th>\n",
       "    </tr>\n",
       "  </thead>\n",
       "  <tbody>\n",
       "    <tr>\n",
       "      <th>0</th>\n",
       "      <td>Baldur's Gate III</td>\n",
       "      <td>Action, Adventure, Fantasy</td>\n",
       "      <td>9.8</td>\n",
       "      <td>1,130</td>\n",
       "      <td>NaN</td>\n",
       "      <td>2023.0</td>\n",
       "      <td>Return to the Faerun in a tale of fellowship a...</td>\n",
       "      <td>Swen Vincke,</td>\n",
       "      <td>Amelia Tyler, Neil Newbon, Jennifer English, D...</td>\n",
       "      <td>M</td>\n",
       "    </tr>\n",
       "    <tr>\n",
       "      <th>1</th>\n",
       "      <td>Starfield</td>\n",
       "      <td>Action, Adventure, Drama</td>\n",
       "      <td>8.7</td>\n",
       "      <td>524</td>\n",
       "      <td>NaN</td>\n",
       "      <td>2023.0</td>\n",
       "      <td>Set 300 years in the future, the player will a...</td>\n",
       "      <td>Todd Howard,</td>\n",
       "      <td>Sumalee Montano, Damien C. Haas, Barry Wiggins...</td>\n",
       "      <td>M</td>\n",
       "    </tr>\n",
       "    <tr>\n",
       "      <th>2</th>\n",
       "      <td>Red Dead Redemption II</td>\n",
       "      <td>Action, Adventure, Crime</td>\n",
       "      <td>9.7</td>\n",
       "      <td>47,844</td>\n",
       "      <td>NaN</td>\n",
       "      <td>2018.0</td>\n",
       "      <td>Amidst the decline of the Wild West at the tur...</td>\n",
       "      <td>NaN</td>\n",
       "      <td>Benjamin Byron Davis, Roger Clark, Rob Wiethof...</td>\n",
       "      <td>M</td>\n",
       "    </tr>\n",
       "    <tr>\n",
       "      <th>3</th>\n",
       "      <td>Armored Core VI: Fires of Rubicon</td>\n",
       "      <td>Action, Adventure, Sci-Fi</td>\n",
       "      <td>7.9</td>\n",
       "      <td>114</td>\n",
       "      <td>NaN</td>\n",
       "      <td>2023.0</td>\n",
       "      <td>Fifty years after a cataclysm caused by a subs...</td>\n",
       "      <td>Masaru Yamamura, Kenneth Kin Yue Chan, Hidetak...</td>\n",
       "      <td>Fairouz Ai, Takayuki Sakazume, Megumi Han, Aya...</td>\n",
       "      <td>T</td>\n",
       "    </tr>\n",
       "    <tr>\n",
       "      <th>4</th>\n",
       "      <td>The Quarry</td>\n",
       "      <td>Action, Adventure, Drama</td>\n",
       "      <td>8.0</td>\n",
       "      <td>4,625</td>\n",
       "      <td>NaN</td>\n",
       "      <td>2022.0</td>\n",
       "      <td>When the sun goes down on the last night of su...</td>\n",
       "      <td>Will Byles,</td>\n",
       "      <td>Siobhan Williams, Skyler Gisondo, Ted Raimi, G...</td>\n",
       "      <td>M</td>\n",
       "    </tr>\n",
       "  </tbody>\n",
       "</table>\n",
       "</div>"
      ],
      "text/plain": [
       "                                        Title                       Genre  \\\n",
       "Popularity                                                                  \n",
       "0                           Baldur's Gate III  Action, Adventure, Fantasy   \n",
       "1                                   Starfield    Action, Adventure, Drama   \n",
       "2                      Red Dead Redemption II    Action, Adventure, Crime   \n",
       "3           Armored Core VI: Fires of Rubicon   Action, Adventure, Sci-Fi   \n",
       "4                                  The Quarry    Action, Adventure, Drama   \n",
       "\n",
       "            User Rating Number of Votes Runtime    Year  \\\n",
       "Popularity                                                \n",
       "0                   9.8           1,130     NaN  2023.0   \n",
       "1                   8.7             524     NaN  2023.0   \n",
       "2                   9.7          47,844     NaN  2018.0   \n",
       "3                   7.9             114     NaN  2023.0   \n",
       "4                   8.0           4,625     NaN  2022.0   \n",
       "\n",
       "                                                      Summary  \\\n",
       "Popularity                                                      \n",
       "0           Return to the Faerun in a tale of fellowship a...   \n",
       "1           Set 300 years in the future, the player will a...   \n",
       "2           Amidst the decline of the Wild West at the tur...   \n",
       "3           Fifty years after a cataclysm caused by a subs...   \n",
       "4           When the sun goes down on the last night of su...   \n",
       "\n",
       "                                                     Director  \\\n",
       "Popularity                                                      \n",
       "0                                                Swen Vincke,   \n",
       "1                                                Todd Howard,   \n",
       "2                                                         NaN   \n",
       "3           Masaru Yamamura, Kenneth Kin Yue Chan, Hidetak...   \n",
       "4                                                 Will Byles,   \n",
       "\n",
       "                                                        Stars Certificate  \n",
       "Popularity                                                                 \n",
       "0           Amelia Tyler, Neil Newbon, Jennifer English, D...           M  \n",
       "1           Sumalee Montano, Damien C. Haas, Barry Wiggins...           M  \n",
       "2           Benjamin Byron Davis, Roger Clark, Rob Wiethof...           M  \n",
       "3           Fairouz Ai, Takayuki Sakazume, Megumi Han, Aya...           T  \n",
       "4           Siobhan Williams, Skyler Gisondo, Ted Raimi, G...           M  "
      ]
     },
     "execution_count": 3,
     "metadata": {},
     "output_type": "execute_result"
    }
   ],
   "source": [
    "df = df[pd.to_numeric(df['User Rating'], errors='coerce').notna()]\n",
    "df['Summary'].fillna('', inplace=True)  # Replace NaN with empty strings\n",
    "df['Stars'].fillna('', inplace=True)  # Replace NaN with empty strings\n",
    "\n",
    "df['User Rating'] = df['User Rating'].astype(float)\n",
    "df.head()"
   ]
  },
  {
   "cell_type": "markdown",
   "id": "d42a5323",
   "metadata": {
    "papermill": {
     "duration": 0.00791,
     "end_time": "2023-10-09T12:08:59.266257",
     "exception": false,
     "start_time": "2023-10-09T12:08:59.258347",
     "status": "completed"
    },
    "tags": []
   },
   "source": [
    "# # # # # # #   LSA****"
   ]
  },
  {
   "cell_type": "code",
   "execution_count": 4,
   "id": "dcdd1a96",
   "metadata": {
    "execution": {
     "iopub.execute_input": "2023-10-09T12:08:59.284581Z",
     "iopub.status.busy": "2023-10-09T12:08:59.283982Z",
     "iopub.status.idle": "2023-10-09T12:08:59.537793Z",
     "shell.execute_reply": "2023-10-09T12:08:59.536657Z"
    },
    "papermill": {
     "duration": 0.265825,
     "end_time": "2023-10-09T12:08:59.540323",
     "exception": false,
     "start_time": "2023-10-09T12:08:59.274498",
     "status": "completed"
    },
    "tags": []
   },
   "outputs": [],
   "source": [
    "tfidf = TfidfVectorizer(token_pattern=r'[a-zA-Z0-9]+', lowercase=True)\n",
    "tfidf_matrix = tfidf.fit_transform(df['Summary'])\n"
   ]
  },
  {
   "cell_type": "code",
   "execution_count": 5,
   "id": "624ec204",
   "metadata": {
    "execution": {
     "iopub.execute_input": "2023-10-09T12:08:59.559077Z",
     "iopub.status.busy": "2023-10-09T12:08:59.558684Z",
     "iopub.status.idle": "2023-10-09T12:09:00.054947Z",
     "shell.execute_reply": "2023-10-09T12:09:00.053529Z"
    },
    "papermill": {
     "duration": 0.510184,
     "end_time": "2023-10-09T12:09:00.058975",
     "exception": false,
     "start_time": "2023-10-09T12:08:59.548791",
     "status": "completed"
    },
    "tags": []
   },
   "outputs": [],
   "source": [
    "num_topics = 20  # 设置主题数\n",
    "lsa = TruncatedSVD(n_components=num_topics, random_state=42)\n",
    "lsa_matrix = lsa.fit_transform(tfidf_matrix)"
   ]
  },
  {
   "cell_type": "code",
   "execution_count": 6,
   "id": "31469a67",
   "metadata": {
    "execution": {
     "iopub.execute_input": "2023-10-09T12:09:00.151372Z",
     "iopub.status.busy": "2023-10-09T12:09:00.150653Z",
     "iopub.status.idle": "2023-10-09T12:09:00.158038Z",
     "shell.execute_reply": "2023-10-09T12:09:00.157343Z"
    },
    "papermill": {
     "duration": 0.055015,
     "end_time": "2023-10-09T12:09:00.161029",
     "exception": false,
     "start_time": "2023-10-09T12:09:00.106014",
     "status": "completed"
    },
    "tags": []
   },
   "outputs": [
    {
     "name": "stdout",
     "output_type": "stream",
     "text": [
      "LSA Topic-Word Matrix:\n",
      "[[ 1.13405003e-03  2.71905465e-03  1.10882480e-03 ...  4.27678229e-04\n",
      "   1.92257361e-04  5.79641865e-04]\n",
      " [ 2.30643502e-03 -1.87480838e-03  3.26859600e-03 ... -1.62931698e-04\n",
      "  -3.45074278e-04  9.23550379e-04]\n",
      " [ 4.71350951e-04  9.68707290e-04 -1.80033522e-03 ... -1.58215907e-03\n",
      "   5.83365540e-05 -4.96537126e-04]\n",
      " ...\n",
      " [ 1.78749050e-03  1.48571534e-03  4.48789399e-04 ...  1.98870566e-03\n",
      "   1.90233412e-03 -2.62734686e-04]\n",
      " [-1.65750992e-03 -7.61333781e-03  1.59462836e-03 ... -8.67312608e-05\n",
      "   5.64351045e-04  5.86206928e-05]\n",
      " [ 4.28303708e-03  1.66976181e-04  1.13526523e-03 ... -2.29504559e-03\n",
      "   8.76981441e-04 -1.63562660e-04]]\n"
     ]
    }
   ],
   "source": [
    "print(\"LSA Topic-Word Matrix:\")\n",
    "print(lsa.components_)"
   ]
  },
  {
   "cell_type": "code",
   "execution_count": 7,
   "id": "bc738d1d",
   "metadata": {
    "execution": {
     "iopub.execute_input": "2023-10-09T12:09:00.181453Z",
     "iopub.status.busy": "2023-10-09T12:09:00.180667Z",
     "iopub.status.idle": "2023-10-09T12:09:00.252146Z",
     "shell.execute_reply": "2023-10-09T12:09:00.250833Z"
    },
    "papermill": {
     "duration": 0.084023,
     "end_time": "2023-10-09T12:09:00.254013",
     "exception": false,
     "start_time": "2023-10-09T12:09:00.169990",
     "status": "completed"
    },
    "tags": []
   },
   "outputs": [
    {
     "name": "stdout",
     "output_type": "stream",
     "text": [
      "Random Word: autonomous\n",
      "Random Word: crowe\n",
      "Random Word: aurelia\n",
      "Random Word: whole\n",
      "Random Word: philosopher\n"
     ]
    }
   ],
   "source": [
    "# 随机选择并打印主题中的一些单词\n",
    "num_features = len(tfidf.get_feature_names_out())\n",
    "\n",
    "for _ in range(5):\n",
    "    random_word_index = random.randint(0, num_features - 1)\n",
    "    random_word = tfidf.get_feature_names_out()[random_word_index]\n",
    "    print(\"Random Word:\", random_word)"
   ]
  },
  {
   "cell_type": "code",
   "execution_count": 8,
   "id": "5249aac0",
   "metadata": {
    "execution": {
     "iopub.execute_input": "2023-10-09T12:09:00.273675Z",
     "iopub.status.busy": "2023-10-09T12:09:00.273024Z",
     "iopub.status.idle": "2023-10-09T12:09:00.336844Z",
     "shell.execute_reply": "2023-10-09T12:09:00.335904Z"
    },
    "papermill": {
     "duration": 0.076404,
     "end_time": "2023-10-09T12:09:00.339176",
     "exception": false,
     "start_time": "2023-10-09T12:09:00.262772",
     "status": "completed"
    },
    "tags": []
   },
   "outputs": [
    {
     "name": "stdout",
     "output_type": "stream",
     "text": [
      "Top Words in Topic 0: ['to', 'and', 'a', 'of', 'the']\n"
     ]
    }
   ],
   "source": [
    "topic_index = 0\n",
    "top_word_indices = lsa.components_[topic_index].argsort()[-5:]\n",
    "top_words = [tfidf.get_feature_names_out()[index] for index in top_word_indices]\n",
    "print(\"Top Words in Topic 0:\", top_words)"
   ]
  },
  {
   "cell_type": "code",
   "execution_count": 9,
   "id": "d375ff7b",
   "metadata": {
    "execution": {
     "iopub.execute_input": "2023-10-09T12:09:00.357997Z",
     "iopub.status.busy": "2023-10-09T12:09:00.357649Z",
     "iopub.status.idle": "2023-10-09T12:09:04.612974Z",
     "shell.execute_reply": "2023-10-09T12:09:04.612161Z"
    },
    "papermill": {
     "duration": 4.267568,
     "end_time": "2023-10-09T12:09:04.615282",
     "exception": false,
     "start_time": "2023-10-09T12:09:00.347714",
     "status": "completed"
    },
    "tags": []
   },
   "outputs": [
    {
     "name": "stdout",
     "output_type": "stream",
     "text": [
      "\n",
      "The top 20 keywords in topic 0:\n",
      "['your', 'by', 'world', 'an', 'for', 'from', 's', 'with', 'his', 'as', 'on', 'you', 'game', 'is', 'in', 'to', 'and', 'a', 'of', 'the']\n",
      "\n",
      "The top 20 keywords in topic 1:\n",
      "['scrolling', 'in', 'this', 'arcade', 'developed', 'shooter', 'released', 'is', 'playstation', 'first', 'movie', 'fighting', 'film', 'for', 'series', 'action', 'on', 'based', 'video', 'game']\n",
      "\n",
      "The top 20 keywords in topic 2:\n",
      "['planet', 'original', 'star', 'same', 'follows', 'story', 'empire', 'following', 'movie', 'during', 'film', 'war', 'remake', 'series', 'version', 'years', 'after', 'events', 'of', 'the']\n",
      "\n",
      "The top 20 keywords in topic 3:\n",
      "['choose', 'way', 'all', 'more', 'will', 'battle', 'characters', 'are', 'fight', 'through', 'this', 'in', 'or', 'can', 'of', 'play', 'the', 'as', 'your', 'you']\n",
      "\n",
      "The top 20 keywords in topic 4:\n",
      "['has', 'must', 'stop', 'evil', 'film', 'movie', 'from', 'save', 'it', 'up', 'video', 'and', 's', 'on', 'the', 'game', 'his', 'based', 'sequel', 'to']\n",
      "\n",
      "The top 20 keywords in topic 5:\n",
      "['fighting', 'second', 'is', 'to', '2', 'boy', 'it', 'playstation', 'super', 'all', 'in', 'and', 'nintendo', 'sequel', 'dlc', 'new', 'this', 'for', 'pack', 'expansion']\n",
      "\n",
      "The top 20 keywords in topic 6:\n",
      "['up', 'mario', 'third', 'more', 'features', 'world', 'it', 'players', 'game', 'their', 'racing', 'to', 'series', 'with', 'characters', 'this', 'new', 'sequel', 'and', 'in']\n",
      "\n",
      "The top 20 keywords in topic 7:\n",
      "['who', 'known', 'which', 'only', 'sent', 'where', 'be', 'that', 'war', 'player', 'have', 'it', 'are', 'in', 'is', 'you', 'the', 'a', 'to', 'sequel']\n",
      "\n",
      "The top 20 keywords in topic 8:\n",
      "['planet', 'they', 'to', 'are', 'action', 'take', 'adventure', 'an', 'new', 'film', 'their', 'expansion', 'pack', 'world', 'a', 'with', 'your', 'and', 'based', 'on']\n",
      "\n",
      "The top 20 keywords in topic 9:\n",
      "['fight', 'remake', 'play', 'an', 'save', 'through', 'world', 'from', 'pack', 'expansion', 'new', 'adventure', 'of', 'based', 'this', 'his', 'on', 'to', 'in', 'sequel']\n",
      "\n",
      "The top 20 keywords in topic 10:\n",
      "['new', '2', 'way', 'enhanced', 'years', 'it', 'boy', 's', 'you', 'up', 'video', 'game', 'after', 'version', 'your', 'events', 'to', 'remake', 'sequel', 'of']\n",
      "\n",
      "The top 20 keywords in topic 11:\n",
      "['out', 'on', 'it', 'em', 'place', 'his', 'by', 'adventure', 'he', 'up', 'action', 'set', 'this', 'an', 'is', 'years', 'your', 'events', 'after', 'in']\n",
      "\n",
      "The top 20 keywords in topic 12:\n",
      "['more', 'featuring', 'or', 'mode', 'features', 'two', 'series', 's', 'racing', 'on', 'a', 'with', 'sequel', 'play', 'characters', 'years', 'as', 'new', 'events', 'after']\n",
      "\n",
      "The top 20 keywords in topic 13:\n",
      "['adventure', 'developed', 'arcade', 'pack', 'expansion', 'known', 'remake', 'beat', 'by', 'of', 'sequel', 'side', 'em', 'play', 'scrolling', 'action', 'up', 'is', 'an', 'as']\n",
      "\n",
      "The top 20 keywords in topic 14:\n",
      "['her', 'characters', 'stop', 'mario', 'their', 'up', 'to', 'earth', 'alien', 'fight', 'years', 'save', 'game', 'evil', 'video', 'must', 'events', 'after', 'an', 'from']\n",
      "\n",
      "The top 20 keywords in topic 15:\n",
      "['save', 'and', 'shoot', 'space', 'up', 'fight', 'must', 'beat', 'from', 'his', 'a', 'shooter', 'em', 'side', 'way', 'through', 'scrolling', 'the', 'sequel', 'your']\n",
      "\n",
      "The top 20 keywords in topic 16:\n",
      "['version', 'super', 'shoot', 'mario', 'city', 'on', 'this', 'based', 'remake', 'a', 'new', 'it', 'side', 'series', 'beat', 'scrolling', 'em', 'in', 's', 'up']\n",
      "\n",
      "The top 20 keywords in topic 17:\n",
      "['different', 'in', 'player', 'between', 'must', 'space', 'can', 'her', 'remake', 'war', 'are', 'his', 'scrolling', 'side', 'you', 'person', 'first', 'sequel', 'shooter', 'and']\n",
      "\n",
      "The top 20 keywords in topic 18:\n",
      "['evil', 'that', 'star', 'where', 'stop', 'is', 'his', 'sonic', 'expansion', 'pack', 'remake', 'an', 'you', 'new', 's', 'from', 'person', 'first', 'shooter', 'with']\n",
      "\n",
      "The top 20 keywords in topic 19:\n",
      "['s', 'released', 'playstation', 'alien', '2', 'boy', 'sonic', 'city', 'super', 'the', 'sequel', 'nintendo', 'remake', 'action', 'adventure', 'you', 'must', 'new', 'for', 'an']\n"
     ]
    }
   ],
   "source": [
    "for index in range(num_topics):\n",
    "    top_word_indices = lsa.components_[index].argsort()[-20:]\n",
    "    top_words = [tfidf.get_feature_names_out()[i] for i in top_word_indices]\n",
    "    print(f'\\nThe top 20 keywords in topic {index}:')\n",
    "    print(top_words)"
   ]
  },
  {
   "cell_type": "code",
   "execution_count": 10,
   "id": "e62eabcf",
   "metadata": {
    "execution": {
     "iopub.execute_input": "2023-10-09T12:09:04.636085Z",
     "iopub.status.busy": "2023-10-09T12:09:04.635710Z",
     "iopub.status.idle": "2023-10-09T12:09:04.643110Z",
     "shell.execute_reply": "2023-10-09T12:09:04.641903Z"
    },
    "papermill": {
     "duration": 0.020144,
     "end_time": "2023-10-09T12:09:04.645379",
     "exception": false,
     "start_time": "2023-10-09T12:09:04.625235",
     "status": "completed"
    },
    "tags": []
   },
   "outputs": [],
   "source": [
    "df[\"Topic\"] = lsa_matrix.argmax(axis=1)"
   ]
  },
  {
   "cell_type": "code",
   "execution_count": 11,
   "id": "3434cddd",
   "metadata": {
    "execution": {
     "iopub.execute_input": "2023-10-09T12:09:04.665908Z",
     "iopub.status.busy": "2023-10-09T12:09:04.665305Z",
     "iopub.status.idle": "2023-10-09T12:09:04.681556Z",
     "shell.execute_reply": "2023-10-09T12:09:04.680255Z"
    },
    "papermill": {
     "duration": 0.028911,
     "end_time": "2023-10-09T12:09:04.683786",
     "exception": false,
     "start_time": "2023-10-09T12:09:04.654875",
     "status": "completed"
    },
    "tags": []
   },
   "outputs": [],
   "source": [
    "# 保持数据处理方法不变\n",
    "# 连接“Genre”和“Summary”列，用空格隔开\n",
    "df2 = df.copy()\n",
    "df2['Combined'] = df['Title'] + ', ' + df['Summary'] + ', ' + df['Genre']"
   ]
  },
  {
   "cell_type": "code",
   "execution_count": 12,
   "id": "be95fcfb",
   "metadata": {
    "execution": {
     "iopub.execute_input": "2023-10-09T12:09:04.764821Z",
     "iopub.status.busy": "2023-10-09T12:09:04.763911Z",
     "iopub.status.idle": "2023-10-09T12:09:04.770214Z",
     "shell.execute_reply": "2023-10-09T12:09:04.769425Z"
    },
    "papermill": {
     "duration": 0.019256,
     "end_time": "2023-10-09T12:09:04.772131",
     "exception": false,
     "start_time": "2023-10-09T12:09:04.752875",
     "status": "completed"
    },
    "tags": []
   },
   "outputs": [
    {
     "name": "stdout",
     "output_type": "stream",
     "text": [
      "Popularity\n",
      "0    Baldur's Gate III, Return to the Faerun in a t...\n",
      "1    Starfield, Set 300 years in the future, the pl...\n",
      "2    Red Dead Redemption II, Amidst the decline of ...\n",
      "3    Armored Core VI: Fires of Rubicon, Fifty years...\n",
      "4    The Quarry, When the sun goes down on the last...\n",
      "Name: Combined, dtype: object\n"
     ]
    }
   ],
   "source": [
    "print(df2['Combined'].head())"
   ]
  },
  {
   "cell_type": "code",
   "execution_count": 13,
   "id": "b3fc49ba",
   "metadata": {
    "execution": {
     "iopub.execute_input": "2023-10-09T12:09:04.794856Z",
     "iopub.status.busy": "2023-10-09T12:09:04.793736Z",
     "iopub.status.idle": "2023-10-09T12:09:05.067813Z",
     "shell.execute_reply": "2023-10-09T12:09:05.066598Z"
    },
    "papermill": {
     "duration": 0.288001,
     "end_time": "2023-10-09T12:09:05.070454",
     "exception": false,
     "start_time": "2023-10-09T12:09:04.782453",
     "status": "completed"
    },
    "tags": []
   },
   "outputs": [],
   "source": [
    "tfidf2 = TfidfVectorizer(token_pattern=r'[a-zA-Z0-9]+', lowercase=True)\n",
    "tfidf_matrix2 = tfidf2.fit_transform(df2['Combined'])\n"
   ]
  },
  {
   "cell_type": "code",
   "execution_count": 14,
   "id": "7bdbebfd",
   "metadata": {
    "execution": {
     "iopub.execute_input": "2023-10-09T12:09:05.092575Z",
     "iopub.status.busy": "2023-10-09T12:09:05.091754Z",
     "iopub.status.idle": "2023-10-09T12:09:09.953484Z",
     "shell.execute_reply": "2023-10-09T12:09:09.952420Z"
    },
    "papermill": {
     "duration": 4.874994,
     "end_time": "2023-10-09T12:09:09.955906",
     "exception": false,
     "start_time": "2023-10-09T12:09:05.080912",
     "status": "completed"
    },
    "tags": []
   },
   "outputs": [
    {
     "name": "stdout",
     "output_type": "stream",
     "text": [
      "Feature Names: ['0' '000' '007' ... 'zwei' 'zx' 'zybex']\n",
      "TF-IDF Matrix:\n",
      "[[0. 0. 0. ... 0. 0. 0.]\n",
      " [0. 0. 0. ... 0. 0. 0.]\n",
      " [0. 0. 0. ... 0. 0. 0.]\n",
      " ...\n",
      " [0. 0. 0. ... 0. 0. 0.]\n",
      " [0. 0. 0. ... 0. 0. 0.]\n",
      " [0. 0. 0. ... 0. 0. 0.]]\n"
     ]
    }
   ],
   "source": [
    "print(\"Feature Names:\", tfidf2.get_feature_names_out())\n",
    "print(\"TF-IDF Matrix:\")\n",
    "print(tfidf_matrix2.toarray())\n",
    "cosine_sim2 = cosine_similarity(tfidf_matrix2, tfidf_matrix2)\n"
   ]
  },
  {
   "cell_type": "code",
   "execution_count": 15,
   "id": "d0060ba1",
   "metadata": {
    "execution": {
     "iopub.execute_input": "2023-10-09T12:09:09.982076Z",
     "iopub.status.busy": "2023-10-09T12:09:09.981726Z",
     "iopub.status.idle": "2023-10-09T12:09:09.988144Z",
     "shell.execute_reply": "2023-10-09T12:09:09.987325Z"
    },
    "papermill": {
     "duration": 0.022335,
     "end_time": "2023-10-09T12:09:09.989886",
     "exception": false,
     "start_time": "2023-10-09T12:09:09.967551",
     "status": "completed"
    },
    "tags": []
   },
   "outputs": [],
   "source": [
    "def recommend(game, num_recommendations=10):\n",
    "    # 找到DataFrame中输入游戏的索引\n",
    "    game_index = df2[df2['Title'] == game].index\n",
    "    if not game_index.empty:\n",
    "        game_index = game_index[0]\n",
    "    else:\n",
    "        return \"数据集中找不到该游戏。\"\n",
    "\n",
    "    # 计算输入游戏的余弦相似度分数\n",
    "    cosine_scores = list(enumerate(cosine_sim2[game_index]))\n",
    "\n",
    "    # 按相似度分数降序排序游戏\n",
    "    cosine_scores = sorted(cosine_scores, key=lambda x: x[1], reverse=True)\n",
    "\n",
    "    # 排除输入游戏（它将与自己具有相似度分数1）\n",
    "    cosine_scores = cosine_scores[1:]\n",
    "\n",
    "    # 获取前N个相似游戏的索引\n",
    "    top_indices = [x[0] for x in cosine_scores[:num_recommendations]]\n",
    "\n",
    "    # 返回包含推荐游戏详细信息的DataFrame\n",
    "    recommended_games = df2.iloc[top_indices][['Title', 'Year', 'Genre', 'Certificate', 'User Rating']]\n",
    "    \n",
    "    return recommended_games"
   ]
  },
  {
   "cell_type": "code",
   "execution_count": 16,
   "id": "cd9e62c1",
   "metadata": {
    "execution": {
     "iopub.execute_input": "2023-10-09T12:09:10.013153Z",
     "iopub.status.busy": "2023-10-09T12:09:10.012559Z",
     "iopub.status.idle": "2023-10-09T12:09:10.032608Z",
     "shell.execute_reply": "2023-10-09T12:09:10.031253Z"
    },
    "papermill": {
     "duration": 0.034332,
     "end_time": "2023-10-09T12:09:10.034832",
     "exception": false,
     "start_time": "2023-10-09T12:09:10.000500",
     "status": "completed"
    },
    "tags": []
   },
   "outputs": [
    {
     "name": "stdout",
     "output_type": "stream",
     "text": [
      "对于 'Spider-Man' 的推荐游戏:\n",
      "                              Title    Year                     Genre  \\\n",
      "Popularity                                                              \n",
      "4326                    King Arthur  2004.0  Action, Adventure, Drama   \n",
      "14246                    Crime City  1989.0             Action, Crime   \n",
      "142         Crime Boss: Rockay City  2023.0     Action, Comedy, Crime   \n",
      "10272             River City Ransom  1989.0  Action, Adventure, Crime   \n",
      "15              Red Dead Redemption  2010.0  Action, Adventure, Crime   \n",
      "903                The Godfather II  2009.0      Action, Crime, Drama   \n",
      "3235                  Stranded Deep  2015.0         Action, Adventure   \n",
      "360                    The Punisher  2004.0  Action, Adventure, Crime   \n",
      "2            Red Dead Redemption II  2018.0  Action, Adventure, Crime   \n",
      "13058                  Crime Cities  2001.0     Action, Crime, Sci-Fi   \n",
      "\n",
      "           Certificate  User Rating  \n",
      "Popularity                           \n",
      "4326                 T          6.7  \n",
      "14246              NaN          6.2  \n",
      "142                  M          5.6  \n",
      "10272             E10+          7.3  \n",
      "15                   M          9.4  \n",
      "903                  M          7.4  \n",
      "3235               NaN          5.2  \n",
      "360                 AO          8.4  \n",
      "2                    M          9.7  \n",
      "13058                T          6.2  \n"
     ]
    }
   ],
   "source": [
    "user_input1 = \"Spider-Man\"\n",
    "recommendations1 = recommend(user_input1)\n",
    "\n",
    "if isinstance(recommendations1, str):\n",
    "    print(recommendations1)\n",
    "else:\n",
    "    print(f\"对于 '{user_input1}' 的推荐游戏:\")\n",
    "    print(recommendations1)"
   ]
  },
  {
   "cell_type": "markdown",
   "id": "c380da7b",
   "metadata": {
    "papermill": {
     "duration": 0.00962,
     "end_time": "2023-10-09T12:09:10.054637",
     "exception": false,
     "start_time": "2023-10-09T12:09:10.045017",
     "status": "completed"
    },
    "tags": []
   },
   "source": [
    "# Analysis:"
   ]
  },
  {
   "cell_type": "markdown",
   "id": "32b1af53",
   "metadata": {
    "papermill": {
     "duration": 0.009606,
     "end_time": "2023-10-09T12:09:10.074253",
     "exception": false,
     "start_time": "2023-10-09T12:09:10.064647",
     "status": "completed"
    },
    "tags": []
   },
   "source": [
    "# Topic modeling using Latent Dirichlet Allocation (LDA) "
   ]
  },
  {
   "cell_type": "code",
   "execution_count": 17,
   "id": "e4378e6b",
   "metadata": {
    "execution": {
     "iopub.execute_input": "2023-10-09T12:09:10.099127Z",
     "iopub.status.busy": "2023-10-09T12:09:10.097983Z",
     "iopub.status.idle": "2023-10-09T12:09:10.333023Z",
     "shell.execute_reply": "2023-10-09T12:09:10.331656Z"
    },
    "papermill": {
     "duration": 0.250624,
     "end_time": "2023-10-09T12:09:10.335251",
     "exception": false,
     "start_time": "2023-10-09T12:09:10.084627",
     "status": "completed"
    },
    "tags": []
   },
   "outputs": [
    {
     "name": "stdout",
     "output_type": "stream",
     "text": [
      "  (0, 6873)\t1\n",
      "  (0, 8176)\t1\n",
      "  (0, 3201)\t1\n",
      "  (0, 962)\t1\n",
      "  (0, 4998)\t1\n",
      "  (0, 210)\t1\n",
      "  (0, 6276)\t1\n",
      "  (0, 5530)\t1\n",
      "  (0, 201)\t1\n",
      "  (0, 754)\t1\n",
      "  (0, 4308)\t1\n",
      "  (0, 6824)\t1\n",
      "  (0, 8607)\t1\n",
      "  (0, 2160)\t1\n",
      "  (0, 2789)\t1\n",
      "  (0, 1931)\t1\n",
      "  (0, 8651)\t1\n",
      "  (0, 2979)\t1\n",
      "  (1, 7365)\t1\n",
      "  (1, 148)\t1\n",
      "  (1, 9255)\t1\n",
      "  (1, 3471)\t1\n",
      "  (1, 6181)\t1\n",
      "  (1, 675)\t1\n",
      "  (1, 7017)\t1\n",
      "  :\t:\n",
      "  (8652, 3060)\t1\n",
      "  (8652, 279)\t1\n",
      "  (8652, 593)\t1\n",
      "  (8652, 2135)\t1\n",
      "  (8652, 7051)\t1\n",
      "  (8652, 2740)\t1\n",
      "  (8652, 4672)\t1\n",
      "  (8652, 7519)\t1\n",
      "  (8652, 8538)\t1\n",
      "  (8652, 3183)\t1\n",
      "  (8652, 7755)\t1\n",
      "  (8652, 6653)\t1\n",
      "  (8652, 7322)\t1\n",
      "  (8652, 7976)\t1\n",
      "  (8652, 1052)\t1\n",
      "  (8652, 6849)\t1\n",
      "  (8652, 3460)\t1\n",
      "  (8652, 3075)\t1\n",
      "  (8652, 857)\t1\n",
      "  (8652, 6936)\t2\n",
      "  (8652, 2044)\t1\n",
      "  (8652, 1191)\t1\n",
      "  (8652, 321)\t1\n",
      "  (8652, 8052)\t1\n",
      "  (8652, 6455)\t1\n"
     ]
    }
   ],
   "source": [
    "# CountVectorizer counts the frequency of words in a document without considering the importance of each word.\n",
    "# # convert a collection of text documents in the 'Summary' column of the DataFrame df into a document-term matrix (DTM)\n",
    "cv = CountVectorizer(max_df=0.95, min_df=2, stop_words='english')\n",
    "\n",
    "# creating a document-term matrix where each row represents a document (text summary) and\n",
    "# each column represents a unique word (feature) in the text.\n",
    "dtm = cv.fit_transform(df['Summary'])\n",
    "print(dtm)"
   ]
  },
  {
   "cell_type": "code",
   "execution_count": 18,
   "id": "60320049",
   "metadata": {
    "execution": {
     "iopub.execute_input": "2023-10-09T12:09:10.359638Z",
     "iopub.status.busy": "2023-10-09T12:09:10.358716Z",
     "iopub.status.idle": "2023-10-09T12:09:25.218601Z",
     "shell.execute_reply": "2023-10-09T12:09:25.217000Z"
    },
    "papermill": {
     "duration": 14.875243,
     "end_time": "2023-10-09T12:09:25.222180",
     "exception": false,
     "start_time": "2023-10-09T12:09:10.346937",
     "status": "completed"
    },
    "tags": []
   },
   "outputs": [
    {
     "data": {
      "text/html": [
       "<style>#sk-container-id-1 {color: black;background-color: white;}#sk-container-id-1 pre{padding: 0;}#sk-container-id-1 div.sk-toggleable {background-color: white;}#sk-container-id-1 label.sk-toggleable__label {cursor: pointer;display: block;width: 100%;margin-bottom: 0;padding: 0.3em;box-sizing: border-box;text-align: center;}#sk-container-id-1 label.sk-toggleable__label-arrow:before {content: \"▸\";float: left;margin-right: 0.25em;color: #696969;}#sk-container-id-1 label.sk-toggleable__label-arrow:hover:before {color: black;}#sk-container-id-1 div.sk-estimator:hover label.sk-toggleable__label-arrow:before {color: black;}#sk-container-id-1 div.sk-toggleable__content {max-height: 0;max-width: 0;overflow: hidden;text-align: left;background-color: #f0f8ff;}#sk-container-id-1 div.sk-toggleable__content pre {margin: 0.2em;color: black;border-radius: 0.25em;background-color: #f0f8ff;}#sk-container-id-1 input.sk-toggleable__control:checked~div.sk-toggleable__content {max-height: 200px;max-width: 100%;overflow: auto;}#sk-container-id-1 input.sk-toggleable__control:checked~label.sk-toggleable__label-arrow:before {content: \"▾\";}#sk-container-id-1 div.sk-estimator input.sk-toggleable__control:checked~label.sk-toggleable__label {background-color: #d4ebff;}#sk-container-id-1 div.sk-label input.sk-toggleable__control:checked~label.sk-toggleable__label {background-color: #d4ebff;}#sk-container-id-1 input.sk-hidden--visually {border: 0;clip: rect(1px 1px 1px 1px);clip: rect(1px, 1px, 1px, 1px);height: 1px;margin: -1px;overflow: hidden;padding: 0;position: absolute;width: 1px;}#sk-container-id-1 div.sk-estimator {font-family: monospace;background-color: #f0f8ff;border: 1px dotted black;border-radius: 0.25em;box-sizing: border-box;margin-bottom: 0.5em;}#sk-container-id-1 div.sk-estimator:hover {background-color: #d4ebff;}#sk-container-id-1 div.sk-parallel-item::after {content: \"\";width: 100%;border-bottom: 1px solid gray;flex-grow: 1;}#sk-container-id-1 div.sk-label:hover label.sk-toggleable__label {background-color: #d4ebff;}#sk-container-id-1 div.sk-serial::before {content: \"\";position: absolute;border-left: 1px solid gray;box-sizing: border-box;top: 0;bottom: 0;left: 50%;z-index: 0;}#sk-container-id-1 div.sk-serial {display: flex;flex-direction: column;align-items: center;background-color: white;padding-right: 0.2em;padding-left: 0.2em;position: relative;}#sk-container-id-1 div.sk-item {position: relative;z-index: 1;}#sk-container-id-1 div.sk-parallel {display: flex;align-items: stretch;justify-content: center;background-color: white;position: relative;}#sk-container-id-1 div.sk-item::before, #sk-container-id-1 div.sk-parallel-item::before {content: \"\";position: absolute;border-left: 1px solid gray;box-sizing: border-box;top: 0;bottom: 0;left: 50%;z-index: -1;}#sk-container-id-1 div.sk-parallel-item {display: flex;flex-direction: column;z-index: 1;position: relative;background-color: white;}#sk-container-id-1 div.sk-parallel-item:first-child::after {align-self: flex-end;width: 50%;}#sk-container-id-1 div.sk-parallel-item:last-child::after {align-self: flex-start;width: 50%;}#sk-container-id-1 div.sk-parallel-item:only-child::after {width: 0;}#sk-container-id-1 div.sk-dashed-wrapped {border: 1px dashed gray;margin: 0 0.4em 0.5em 0.4em;box-sizing: border-box;padding-bottom: 0.4em;background-color: white;}#sk-container-id-1 div.sk-label label {font-family: monospace;font-weight: bold;display: inline-block;line-height: 1.2em;}#sk-container-id-1 div.sk-label-container {text-align: center;}#sk-container-id-1 div.sk-container {/* jupyter's `normalize.less` sets `[hidden] { display: none; }` but bootstrap.min.css set `[hidden] { display: none !important; }` so we also need the `!important` here to be able to override the default hidden behavior on the sphinx rendered scikit-learn.org. See: https://github.com/scikit-learn/scikit-learn/issues/21755 */display: inline-block !important;position: relative;}#sk-container-id-1 div.sk-text-repr-fallback {display: none;}</style><div id=\"sk-container-id-1\" class=\"sk-top-container\"><div class=\"sk-text-repr-fallback\"><pre>LatentDirichletAllocation(n_components=20, random_state=42)</pre><b>In a Jupyter environment, please rerun this cell to show the HTML representation or trust the notebook. <br />On GitHub, the HTML representation is unable to render, please try loading this page with nbviewer.org.</b></div><div class=\"sk-container\" hidden><div class=\"sk-item\"><div class=\"sk-estimator sk-toggleable\"><input class=\"sk-toggleable__control sk-hidden--visually\" id=\"sk-estimator-id-1\" type=\"checkbox\" checked><label for=\"sk-estimator-id-1\" class=\"sk-toggleable__label sk-toggleable__label-arrow\">LatentDirichletAllocation</label><div class=\"sk-toggleable__content\"><pre>LatentDirichletAllocation(n_components=20, random_state=42)</pre></div></div></div></div></div>"
      ],
      "text/plain": [
       "LatentDirichletAllocation(n_components=20, random_state=42)"
      ]
     },
     "execution_count": 18,
     "metadata": {},
     "output_type": "execute_result"
    }
   ],
   "source": [
    "# This initializes an LDA model with 20 topics and a random state for reproducibility.\n",
    "LDA = LatentDirichletAllocation(n_components=20,random_state=42)\n",
    "LDA.fit(dtm)"
   ]
  },
  {
   "cell_type": "code",
   "execution_count": 19,
   "id": "a1b72282",
   "metadata": {
    "execution": {
     "iopub.execute_input": "2023-10-09T12:09:25.245672Z",
     "iopub.status.busy": "2023-10-09T12:09:25.245338Z",
     "iopub.status.idle": "2023-10-09T12:09:25.260443Z",
     "shell.execute_reply": "2023-10-09T12:09:25.259380Z"
    },
    "papermill": {
     "duration": 0.029047,
     "end_time": "2023-10-09T12:09:25.262821",
     "exception": false,
     "start_time": "2023-10-09T12:09:25.233774",
     "status": "completed"
    },
    "tags": []
   },
   "outputs": [
    {
     "data": {
      "text/plain": [
       "9317"
      ]
     },
     "execution_count": 19,
     "metadata": {},
     "output_type": "execute_result"
    }
   ],
   "source": [
    "len(list(cv.get_feature_names_out()))"
   ]
  },
  {
   "cell_type": "markdown",
   "id": "e1ea84f2",
   "metadata": {
    "papermill": {
     "duration": 0.010831,
     "end_time": "2023-10-09T12:09:25.284242",
     "exception": false,
     "start_time": "2023-10-09T12:09:25.273411",
     "status": "completed"
    },
    "tags": []
   },
   "source": [
    "## Exploring the vocabulary"
   ]
  },
  {
   "cell_type": "code",
   "execution_count": 20,
   "id": "8b08d72c",
   "metadata": {
    "execution": {
     "iopub.execute_input": "2023-10-09T12:09:25.306329Z",
     "iopub.status.busy": "2023-10-09T12:09:25.305940Z",
     "iopub.status.idle": "2023-10-09T12:09:25.343730Z",
     "shell.execute_reply": "2023-10-09T12:09:25.342070Z"
    },
    "papermill": {
     "duration": 0.051911,
     "end_time": "2023-10-09T12:09:25.346360",
     "exception": false,
     "start_time": "2023-10-09T12:09:25.294449",
     "status": "completed"
    },
    "tags": []
   },
   "outputs": [
    {
     "name": "stdout",
     "output_type": "stream",
     "text": [
      "Random Word: voices\n",
      "Random Word: predict\n",
      "Random Word: prime\n",
      "Random Word: cracking\n",
      "Random Word: initial\n"
     ]
    }
   ],
   "source": [
    "# Explore the vocabulary by printing random words\n",
    "\n",
    "num_features = len(cv.get_feature_names_out())\n",
    "\n",
    "for _ in range(5):\n",
    "    # Generate a random word index within the valid range\n",
    "    random_word_index = random.randint(0, num_features - 1)\n",
    "    \n",
    "    # Get and print the random word from the vocabulary\n",
    "    random_word = list(cv.get_feature_names_out())[random_word_index]\n",
    "    print(\"Random Word:\", random_word)\n",
    "\n"
   ]
  },
  {
   "cell_type": "markdown",
   "id": "5bb2a2d9",
   "metadata": {
    "papermill": {
     "duration": 0.01053,
     "end_time": "2023-10-09T12:09:25.367538",
     "exception": false,
     "start_time": "2023-10-09T12:09:25.357008",
     "status": "completed"
    },
    "tags": []
   },
   "source": [
    "## Top Words in a Single Topic:"
   ]
  },
  {
   "cell_type": "code",
   "execution_count": 21,
   "id": "936eaddd",
   "metadata": {
    "execution": {
     "iopub.execute_input": "2023-10-09T12:09:25.390255Z",
     "iopub.status.busy": "2023-10-09T12:09:25.389881Z",
     "iopub.status.idle": "2023-10-09T12:09:25.420749Z",
     "shell.execute_reply": "2023-10-09T12:09:25.419312Z"
    },
    "papermill": {
     "duration": 0.044407,
     "end_time": "2023-10-09T12:09:25.422771",
     "exception": false,
     "start_time": "2023-10-09T12:09:25.378364",
     "status": "completed"
    },
    "tags": []
   },
   "outputs": [
    {
     "name": "stdout",
     "output_type": "stream",
     "text": [
      "Top Words in Topic: ['known', 'player', 'team', 'alien', 'earth']\n"
     ]
    }
   ],
   "source": [
    "# Get the word distribution for a specific topic (e.g., the first topic)\n",
    "topic_index = 0\n",
    "topic_word_distribution = LDA.components_[topic_index]\n",
    "\n",
    "# Find the indices of the top 5 words in the topic by sorting based on word probabilities\n",
    "top_word_indices = topic_word_distribution.argsort()[-5:]\n",
    "\n",
    "# Retrieve and print the top words from the vocabulary\n",
    "top_words = [list(cv.get_feature_names_out())[index] for index in top_word_indices]\n",
    "print(\"Top Words in Topic:\", top_words)\n"
   ]
  },
  {
   "cell_type": "code",
   "execution_count": 22,
   "id": "581445ca",
   "metadata": {
    "execution": {
     "iopub.execute_input": "2023-10-09T12:09:25.446870Z",
     "iopub.status.busy": "2023-10-09T12:09:25.446529Z",
     "iopub.status.idle": "2023-10-09T12:09:27.307655Z",
     "shell.execute_reply": "2023-10-09T12:09:27.306470Z"
    },
    "papermill": {
     "duration": 1.874948,
     "end_time": "2023-10-09T12:09:27.309816",
     "exception": false,
     "start_time": "2023-10-09T12:09:25.434868",
     "status": "completed"
    },
    "tags": []
   },
   "outputs": [
    {
     "name": "stdout",
     "output_type": "stream",
     "text": [
      "\n",
      "The top 10 keywords in topic 0:\n",
      "['world', 'elite', 'forces', 'time', 'force', 'planet', 'mission', 'ship', 'sent', 'save', 'human', 'game', 'war', 'aliens', 'race', 'known', 'player', 'team', 'alien', 'earth']\n",
      "\n",
      "The top 10 keywords in topic 1:\n",
      "['players', 'death', 'missions', 'fight', 'story', 'paced', 'combat', 'weapons', 'platformer', 'levels', '2d', 'game', 'fast', 'set', 'scrolling', 'shooter', 'world', 'action', 'enemies', 'new']\n",
      "\n",
      "The top 10 keywords in topic 2:\n",
      "['enemy', 'family', 'taken', 'life', 'kill', 'facility', 'island', 'takes', 'terrorists', 'kidnapped', 'evil', 'time', 'player', 'mission', 'control', 'space', 'new', 'help', 'stop', 'rescue']\n",
      "\n",
      "The top 10 keywords in topic 3:\n",
      "['shooter', 'role', 'person', 'story', 'dragon', 'players', 'new', 'ii', 'different', 'wars', 'way', 'series', 'star', 'play', 'fight', 'set', 'player', 'war', 'game', 'world']\n",
      "\n",
      "The top 10 keywords in topic 4:\n",
      "['shooter', 'heroes', 'rpg', 'pokemon', 'magic', 'battle', 'set', 'time', 'defense', 'players', 'story', 'strategy', 'evil', 'play', 'remake', 'world', 'adventure', 'action', 'new', 'game']\n",
      "\n",
      "The top 10 keywords in topic 5:\n",
      "['jedi', 'play', 'island', 'team', 'batman', 'spider', 'game', 'survival', 'rescue', 'order', 'way', 'life', 'city', 'time', 'world', 'new', 'group', 'fight', 'man', 'jack']\n",
      "\n",
      "The top 10 keywords in topic 6:\n",
      "['terrorist', 'called', 'characters', 'time', 'way', 'series', 'death', 'kombat', 'mortal', 'power', 'vs', 'shoot', 'game', 'ninja', 'super', 'play', 'fight', 'destroy', 'street', 'fighter']\n",
      "\n",
      "The top 10 keywords in topic 7:\n",
      "['way', 'play', 'family', 'll', 'friends', 'home', 'time', 'park', 'mysterious', 'hunt', 'save', 'city', 'threat', 'set', 'journey', 'man', 'stop', 'help', 'new', 'world']\n",
      "\n",
      "The top 10 keywords in topic 8:\n",
      "['help', 'adventure', 'lands', 'way', 'time', 'save', 'quest', 'cortex', 'metal', 'defeat', 'mario', 'donkey', 'spyro', 'world', 'kong', 'friends', 'crash', 'island', 'evil', 'pokémon']\n",
      "\n",
      "The top 10 keywords in topic 9:\n",
      "['free', 'ninja', 'quest', 'game', 'takes', 'earth', 'dark', 'mysterious', 'save', 'knight', 'stop', 'way', 'platforming', 'time', 'adventure', 'world', 'fight', 'action', 'evil', 'play']\n",
      "\n",
      "The top 10 keywords in topic 10:\n",
      "['stop', 'post', 'future', 'version', 'robots', 'humanity', 'time', 'hedgehog', 'new', 'mysterious', 'years', 'events', 'game', 'expansion', 'pack', 'known', 'set', 'world', 'city', 'sonic']\n",
      "\n",
      "The top 10 keywords in topic 11:\n",
      "['featuring', 'shooter', 'movie', 'mode', 'features', 'released', 'new', 'player', 'racing', 'arcade', 'play', 'fighting', 'games', 'players', 'characters', 'action', 'series', 'based', 'video', 'game']\n",
      "\n",
      "The top 10 keywords in topic 12:\n",
      "['battle', 'power', 'force', 'way', 'group', 'life', 'called', 'future', 'forces', 'fight', 'powerful', 'defeat', 'time', 'years', 'save', 'land', 'evil', 'earth', 'war', 'world']\n",
      "\n",
      "The top 10 keywords in topic 13:\n",
      "['evil', 'mysterious', 'man', 'face', 'young', 'stop', 'birds', 'save', 'adventure', 'land', 'king', 'planet', 'different', 'way', 'time', 'monsters', 'fight', 'battle', 'team', 'world']\n",
      "\n",
      "The top 10 keywords in topic 14:\n",
      "['named', 'soldier', 'dragon', 'way', 'set', 'destroy', 'battle', 'quest', 'evil', 'stop', 'planet', 'father', 'save', 'vampire', 'sequel', 'army', 'dracula', 'batman', 'world', 'city']\n",
      "\n",
      "The top 10 keywords in topic 15:\n",
      "['soul', 'characters', 'order', 'play', 'end', 'way', 'game', 'battle', 'dark', 'demons', 'journey', 'team', 'war', 'evil', 'set', 'power', 'fight', 'save', 'new', 'world']\n",
      "\n",
      "The top 10 keywords in topic 16:\n",
      "['organization', 'earth', 'hero', 'mysterious', 'creatures', 'set', 'sent', 'government', 'force', 'planet', 'forces', 'stop', 'time', 'takes', 'place', 'city', 'world', 'new', 'events', 'years']\n",
      "\n",
      "The top 10 keywords in topic 17:\n",
      "['quest', 'wide', 'cars', 'expansion', 'guns', 'high', 'including', 'enemy', 'search', 'set', 'character', 'help', 'player', 'time', 'king', 'play', 'life', 'fighters', 'characters', 'new']\n",
      "\n",
      "The top 10 keywords in topic 18:\n",
      "['earth', 'forces', 'land', 'kingdom', 'bowser', 'time', 'adventure', 'war', 'defeat', 'new', 'king', 'rescue', 'kidnapped', 'young', 'master', 'world', 'evil', 'mario', 'save', 'princess']\n",
      "\n",
      "The top 10 keywords in topic 19:\n",
      "['dangerous', 'way', 'power', 'set', 'man', 'force', 'new', 'player', 'earth', 'known', 'control', 'planet', 'war', 'evil', 'time', 'stop', 'fight', 'robot', 'game', 'world']\n"
     ]
    }
   ],
   "source": [
    "# Iterate through each topic in the LDA model\n",
    "for index, topic in enumerate(LDA.components_):\n",
    "    # Print the top 20 words for the current topic\n",
    "    top_words = [list(cv.get_feature_names_out())[i] for i in topic.argsort()[-20:]]\n",
    "    print(f'\\nThe top 10 keywords in topic {index}:')\n",
    "    print(top_words)\n"
   ]
  },
  {
   "cell_type": "markdown",
   "id": "30261607",
   "metadata": {
    "papermill": {
     "duration": 0.010742,
     "end_time": "2023-10-09T12:09:27.331960",
     "exception": false,
     "start_time": "2023-10-09T12:09:27.321218",
     "status": "completed"
    },
    "tags": []
   },
   "source": [
    "### Insights"
   ]
  },
  {
   "cell_type": "markdown",
   "id": "05a1367c",
   "metadata": {
    "papermill": {
     "duration": 0.013339,
     "end_time": "2023-10-09T12:09:27.356062",
     "exception": false,
     "start_time": "2023-10-09T12:09:27.342723",
     "status": "completed"
    },
    "tags": []
   },
   "source": [
    "Topic 6 looksing interesting, \"vs\", \"street\", \"fighter\"... it seems relating to people fighting on streets. Let's check it out if the legendary game Street Fighter falls into this category."
   ]
  },
  {
   "cell_type": "code",
   "execution_count": 23,
   "id": "ccb58905",
   "metadata": {
    "execution": {
     "iopub.execute_input": "2023-10-09T12:09:27.379855Z",
     "iopub.status.busy": "2023-10-09T12:09:27.379522Z",
     "iopub.status.idle": "2023-10-09T12:09:28.269588Z",
     "shell.execute_reply": "2023-10-09T12:09:28.268168Z"
    },
    "papermill": {
     "duration": 0.905152,
     "end_time": "2023-10-09T12:09:28.272233",
     "exception": false,
     "start_time": "2023-10-09T12:09:27.367081",
     "status": "completed"
    },
    "tags": []
   },
   "outputs": [],
   "source": [
    "topics = LDA.transform(dtm)\n",
    "df[\"Topic\"]=topics.argmax(axis=1)"
   ]
  },
  {
   "cell_type": "code",
   "execution_count": 24,
   "id": "67bc2d94",
   "metadata": {
    "execution": {
     "iopub.execute_input": "2023-10-09T12:09:28.299124Z",
     "iopub.status.busy": "2023-10-09T12:09:28.298740Z",
     "iopub.status.idle": "2023-10-09T12:09:28.314612Z",
     "shell.execute_reply": "2023-10-09T12:09:28.313768Z"
    },
    "papermill": {
     "duration": 0.030571,
     "end_time": "2023-10-09T12:09:28.316633",
     "exception": false,
     "start_time": "2023-10-09T12:09:28.286062",
     "status": "completed"
    },
    "tags": []
   },
   "outputs": [
    {
     "data": {
      "text/html": [
       "<div>\n",
       "<style scoped>\n",
       "    .dataframe tbody tr th:only-of-type {\n",
       "        vertical-align: middle;\n",
       "    }\n",
       "\n",
       "    .dataframe tbody tr th {\n",
       "        vertical-align: top;\n",
       "    }\n",
       "\n",
       "    .dataframe thead th {\n",
       "        text-align: right;\n",
       "    }\n",
       "</style>\n",
       "<table border=\"1\" class=\"dataframe\">\n",
       "  <thead>\n",
       "    <tr style=\"text-align: right;\">\n",
       "      <th></th>\n",
       "      <th>Title</th>\n",
       "      <th>Genre</th>\n",
       "      <th>User Rating</th>\n",
       "      <th>Number of Votes</th>\n",
       "      <th>Runtime</th>\n",
       "      <th>Year</th>\n",
       "      <th>Summary</th>\n",
       "      <th>Director</th>\n",
       "      <th>Stars</th>\n",
       "      <th>Certificate</th>\n",
       "      <th>Topic</th>\n",
       "    </tr>\n",
       "    <tr>\n",
       "      <th>Popularity</th>\n",
       "      <th></th>\n",
       "      <th></th>\n",
       "      <th></th>\n",
       "      <th></th>\n",
       "      <th></th>\n",
       "      <th></th>\n",
       "      <th></th>\n",
       "      <th></th>\n",
       "      <th></th>\n",
       "      <th></th>\n",
       "      <th></th>\n",
       "    </tr>\n",
       "  </thead>\n",
       "  <tbody>\n",
       "    <tr>\n",
       "      <th>1610</th>\n",
       "      <td>Street Fighter</td>\n",
       "      <td>Action</td>\n",
       "      <td>6.1</td>\n",
       "      <td>501</td>\n",
       "      <td>NaN</td>\n",
       "      <td>1987.0</td>\n",
       "      <td>Two skilled martial arts experts, Ryu and Ken,...</td>\n",
       "      <td>NaN</td>\n",
       "      <td>Takashi Nishiyama</td>\n",
       "      <td>E10+</td>\n",
       "      <td>6</td>\n",
       "    </tr>\n",
       "  </tbody>\n",
       "</table>\n",
       "</div>"
      ],
      "text/plain": [
       "                     Title   Genre  User Rating Number of Votes Runtime  \\\n",
       "Popularity                                                                \n",
       "1610        Street Fighter  Action          6.1             501     NaN   \n",
       "\n",
       "              Year                                            Summary  \\\n",
       "Popularity                                                              \n",
       "1610        1987.0  Two skilled martial arts experts, Ryu and Ken,...   \n",
       "\n",
       "           Director              Stars Certificate  Topic  \n",
       "Popularity                                                 \n",
       "1610            NaN  Takashi Nishiyama        E10+      6  "
      ]
     },
     "execution_count": 24,
     "metadata": {},
     "output_type": "execute_result"
    }
   ],
   "source": [
    "df[df.Title == \"Street Fighter\"]"
   ]
  },
  {
   "cell_type": "markdown",
   "id": "4d408945",
   "metadata": {
    "papermill": {
     "duration": 0.011008,
     "end_time": "2023-10-09T12:09:28.339080",
     "exception": false,
     "start_time": "2023-10-09T12:09:28.328072",
     "status": "completed"
    },
    "tags": []
   },
   "source": [
    "It is!!!"
   ]
  },
  {
   "cell_type": "code",
   "execution_count": 25,
   "id": "78011566",
   "metadata": {
    "execution": {
     "iopub.execute_input": "2023-10-09T12:09:28.367128Z",
     "iopub.status.busy": "2023-10-09T12:09:28.366710Z",
     "iopub.status.idle": "2023-10-09T12:09:28.382934Z",
     "shell.execute_reply": "2023-10-09T12:09:28.381774Z"
    },
    "papermill": {
     "duration": 0.032993,
     "end_time": "2023-10-09T12:09:28.385212",
     "exception": false,
     "start_time": "2023-10-09T12:09:28.352219",
     "status": "completed"
    },
    "tags": []
   },
   "outputs": [
    {
     "data": {
      "text/html": [
       "<div>\n",
       "<style scoped>\n",
       "    .dataframe tbody tr th:only-of-type {\n",
       "        vertical-align: middle;\n",
       "    }\n",
       "\n",
       "    .dataframe tbody tr th {\n",
       "        vertical-align: top;\n",
       "    }\n",
       "\n",
       "    .dataframe thead th {\n",
       "        text-align: right;\n",
       "    }\n",
       "</style>\n",
       "<table border=\"1\" class=\"dataframe\">\n",
       "  <thead>\n",
       "    <tr style=\"text-align: right;\">\n",
       "      <th></th>\n",
       "      <th>Title</th>\n",
       "      <th>Genre</th>\n",
       "      <th>User Rating</th>\n",
       "      <th>Number of Votes</th>\n",
       "      <th>Runtime</th>\n",
       "      <th>Year</th>\n",
       "      <th>Summary</th>\n",
       "      <th>Director</th>\n",
       "      <th>Stars</th>\n",
       "      <th>Certificate</th>\n",
       "      <th>Topic</th>\n",
       "    </tr>\n",
       "    <tr>\n",
       "      <th>Popularity</th>\n",
       "      <th></th>\n",
       "      <th></th>\n",
       "      <th></th>\n",
       "      <th></th>\n",
       "      <th></th>\n",
       "      <th></th>\n",
       "      <th></th>\n",
       "      <th></th>\n",
       "      <th></th>\n",
       "      <th></th>\n",
       "      <th></th>\n",
       "    </tr>\n",
       "  </thead>\n",
       "  <tbody>\n",
       "    <tr>\n",
       "      <th>0</th>\n",
       "      <td>Baldur's Gate III</td>\n",
       "      <td>Action, Adventure, Fantasy</td>\n",
       "      <td>9.8</td>\n",
       "      <td>1,130</td>\n",
       "      <td>NaN</td>\n",
       "      <td>2023.0</td>\n",
       "      <td>Return to the Faerun in a tale of fellowship a...</td>\n",
       "      <td>Swen Vincke,</td>\n",
       "      <td>Amelia Tyler, Neil Newbon, Jennifer English, D...</td>\n",
       "      <td>M</td>\n",
       "      <td>1</td>\n",
       "    </tr>\n",
       "    <tr>\n",
       "      <th>1</th>\n",
       "      <td>Starfield</td>\n",
       "      <td>Action, Adventure, Drama</td>\n",
       "      <td>8.7</td>\n",
       "      <td>524</td>\n",
       "      <td>NaN</td>\n",
       "      <td>2023.0</td>\n",
       "      <td>Set 300 years in the future, the player will a...</td>\n",
       "      <td>Todd Howard,</td>\n",
       "      <td>Sumalee Montano, Damien C. Haas, Barry Wiggins...</td>\n",
       "      <td>M</td>\n",
       "      <td>16</td>\n",
       "    </tr>\n",
       "    <tr>\n",
       "      <th>2</th>\n",
       "      <td>Red Dead Redemption II</td>\n",
       "      <td>Action, Adventure, Crime</td>\n",
       "      <td>9.7</td>\n",
       "      <td>47,844</td>\n",
       "      <td>NaN</td>\n",
       "      <td>2018.0</td>\n",
       "      <td>Amidst the decline of the Wild West at the tur...</td>\n",
       "      <td>NaN</td>\n",
       "      <td>Benjamin Byron Davis, Roger Clark, Rob Wiethof...</td>\n",
       "      <td>M</td>\n",
       "      <td>0</td>\n",
       "    </tr>\n",
       "    <tr>\n",
       "      <th>3</th>\n",
       "      <td>Armored Core VI: Fires of Rubicon</td>\n",
       "      <td>Action, Adventure, Sci-Fi</td>\n",
       "      <td>7.9</td>\n",
       "      <td>114</td>\n",
       "      <td>NaN</td>\n",
       "      <td>2023.0</td>\n",
       "      <td>Fifty years after a cataclysm caused by a subs...</td>\n",
       "      <td>Masaru Yamamura, Kenneth Kin Yue Chan, Hidetak...</td>\n",
       "      <td>Fairouz Ai, Takayuki Sakazume, Megumi Han, Aya...</td>\n",
       "      <td>T</td>\n",
       "      <td>3</td>\n",
       "    </tr>\n",
       "    <tr>\n",
       "      <th>4</th>\n",
       "      <td>The Quarry</td>\n",
       "      <td>Action, Adventure, Drama</td>\n",
       "      <td>8.0</td>\n",
       "      <td>4,625</td>\n",
       "      <td>NaN</td>\n",
       "      <td>2022.0</td>\n",
       "      <td>When the sun goes down on the last night of su...</td>\n",
       "      <td>Will Byles,</td>\n",
       "      <td>Siobhan Williams, Skyler Gisondo, Ted Raimi, G...</td>\n",
       "      <td>M</td>\n",
       "      <td>10</td>\n",
       "    </tr>\n",
       "  </tbody>\n",
       "</table>\n",
       "</div>"
      ],
      "text/plain": [
       "                                        Title                       Genre  \\\n",
       "Popularity                                                                  \n",
       "0                           Baldur's Gate III  Action, Adventure, Fantasy   \n",
       "1                                   Starfield    Action, Adventure, Drama   \n",
       "2                      Red Dead Redemption II    Action, Adventure, Crime   \n",
       "3           Armored Core VI: Fires of Rubicon   Action, Adventure, Sci-Fi   \n",
       "4                                  The Quarry    Action, Adventure, Drama   \n",
       "\n",
       "            User Rating Number of Votes Runtime    Year  \\\n",
       "Popularity                                                \n",
       "0                   9.8           1,130     NaN  2023.0   \n",
       "1                   8.7             524     NaN  2023.0   \n",
       "2                   9.7          47,844     NaN  2018.0   \n",
       "3                   7.9             114     NaN  2023.0   \n",
       "4                   8.0           4,625     NaN  2022.0   \n",
       "\n",
       "                                                      Summary  \\\n",
       "Popularity                                                      \n",
       "0           Return to the Faerun in a tale of fellowship a...   \n",
       "1           Set 300 years in the future, the player will a...   \n",
       "2           Amidst the decline of the Wild West at the tur...   \n",
       "3           Fifty years after a cataclysm caused by a subs...   \n",
       "4           When the sun goes down on the last night of su...   \n",
       "\n",
       "                                                     Director  \\\n",
       "Popularity                                                      \n",
       "0                                                Swen Vincke,   \n",
       "1                                                Todd Howard,   \n",
       "2                                                         NaN   \n",
       "3           Masaru Yamamura, Kenneth Kin Yue Chan, Hidetak...   \n",
       "4                                                 Will Byles,   \n",
       "\n",
       "                                                        Stars Certificate  \\\n",
       "Popularity                                                                  \n",
       "0           Amelia Tyler, Neil Newbon, Jennifer English, D...           M   \n",
       "1           Sumalee Montano, Damien C. Haas, Barry Wiggins...           M   \n",
       "2           Benjamin Byron Davis, Roger Clark, Rob Wiethof...           M   \n",
       "3           Fairouz Ai, Takayuki Sakazume, Megumi Han, Aya...           T   \n",
       "4           Siobhan Williams, Skyler Gisondo, Ted Raimi, G...           M   \n",
       "\n",
       "            Topic  \n",
       "Popularity         \n",
       "0               1  \n",
       "1              16  \n",
       "2               0  \n",
       "3               3  \n",
       "4              10  "
      ]
     },
     "execution_count": 25,
     "metadata": {},
     "output_type": "execute_result"
    }
   ],
   "source": [
    "df.head()"
   ]
  },
  {
   "cell_type": "markdown",
   "id": "763a3d44",
   "metadata": {
    "papermill": {
     "duration": 0.012358,
     "end_time": "2023-10-09T12:09:28.409821",
     "exception": false,
     "start_time": "2023-10-09T12:09:28.397463",
     "status": "completed"
    },
    "tags": []
   },
   "source": [
    "# Recommendation System:"
   ]
  },
  {
   "cell_type": "markdown",
   "id": "13003638",
   "metadata": {
    "papermill": {
     "duration": 0.012177,
     "end_time": "2023-10-09T12:09:28.433578",
     "exception": false,
     "start_time": "2023-10-09T12:09:28.421401",
     "status": "completed"
    },
    "tags": []
   },
   "source": [
    "## Creating the TF-IDF Matrix"
   ]
  },
  {
   "cell_type": "code",
   "execution_count": 26,
   "id": "36732b86",
   "metadata": {
    "execution": {
     "iopub.execute_input": "2023-10-09T12:09:28.458656Z",
     "iopub.status.busy": "2023-10-09T12:09:28.458267Z",
     "iopub.status.idle": "2023-10-09T12:09:28.475404Z",
     "shell.execute_reply": "2023-10-09T12:09:28.474170Z"
    },
    "papermill": {
     "duration": 0.031439,
     "end_time": "2023-10-09T12:09:28.477180",
     "exception": false,
     "start_time": "2023-10-09T12:09:28.445741",
     "status": "completed"
    },
    "tags": []
   },
   "outputs": [
    {
     "name": "stdout",
     "output_type": "stream",
     "text": [
      "Popularity\n",
      "0    Baldur's Gate III, Return to the Faerun in a t...\n",
      "1    Starfield, Set 300 years in the future, the pl...\n",
      "2    Red Dead Redemption II, Amidst the decline of ...\n",
      "3    Armored Core VI: Fires of Rubicon, Fifty years...\n",
      "4    The Quarry, When the sun goes down on the last...\n",
      "Name: Combined, dtype: object\n"
     ]
    }
   ],
   "source": [
    "# Concatenate 'Genre' and 'Summary' columns with a space in between\n",
    "df2 = df.copy()\n",
    "df2['Combined'] = df['Title'] + ', ' + df['Summary'] + ', ' + df['Genre']\n",
    "\n",
    "# Display the first few rows to verify the result\n",
    "print(df2['Combined'].head())\n"
   ]
  },
  {
   "cell_type": "code",
   "execution_count": 27,
   "id": "667e5a72",
   "metadata": {
    "execution": {
     "iopub.execute_input": "2023-10-09T12:09:28.502314Z",
     "iopub.status.busy": "2023-10-09T12:09:28.501877Z",
     "iopub.status.idle": "2023-10-09T12:09:29.836378Z",
     "shell.execute_reply": "2023-10-09T12:09:29.834023Z"
    },
    "papermill": {
     "duration": 1.349581,
     "end_time": "2023-10-09T12:09:29.838763",
     "exception": false,
     "start_time": "2023-10-09T12:09:28.489182",
     "status": "completed"
    },
    "tags": []
   },
   "outputs": [
    {
     "name": "stdout",
     "output_type": "stream",
     "text": [
      "Feature Names: ['0' '000' '007' ... 'zwei' 'zx' 'zybex']\n",
      "TF-IDF Matrix:\n",
      "[[0. 0. 0. ... 0. 0. 0.]\n",
      " [0. 0. 0. ... 0. 0. 0.]\n",
      " [0. 0. 0. ... 0. 0. 0.]\n",
      " ...\n",
      " [0. 0. 0. ... 0. 0. 0.]\n",
      " [0. 0. 0. ... 0. 0. 0.]\n",
      " [0. 0. 0. ... 0. 0. 0.]]\n"
     ]
    }
   ],
   "source": [
    "# TfidfVectorizer is for Weighted Representation:\n",
    "tfidf2 = TfidfVectorizer(token_pattern=r'[a-zA-Z0-9]+', lowercase=True)\n",
    "tfidf_matrix2 = tfidf2.fit_transform(df2['Combined'])\n",
    "\n",
    "# Show the TF-IDF features\n",
    "print(\"Feature Names:\", tfidf2.get_feature_names_out())\n",
    "print(\"TF-IDF Matrix:\")\n",
    "print(tfidf_matrix2.toarray())"
   ]
  },
  {
   "cell_type": "code",
   "execution_count": null,
   "id": "6b89fde8",
   "metadata": {
    "papermill": {
     "duration": 0.011593,
     "end_time": "2023-10-09T12:09:29.862423",
     "exception": false,
     "start_time": "2023-10-09T12:09:29.850830",
     "status": "completed"
    },
    "tags": []
   },
   "outputs": [],
   "source": [
    "\n"
   ]
  },
  {
   "cell_type": "code",
   "execution_count": 28,
   "id": "d39e5798",
   "metadata": {
    "execution": {
     "iopub.execute_input": "2023-10-09T12:09:29.888983Z",
     "iopub.status.busy": "2023-10-09T12:09:29.888641Z",
     "iopub.status.idle": "2023-10-09T12:09:33.618165Z",
     "shell.execute_reply": "2023-10-09T12:09:33.616732Z"
    },
    "papermill": {
     "duration": 3.746127,
     "end_time": "2023-10-09T12:09:33.620939",
     "exception": false,
     "start_time": "2023-10-09T12:09:29.874812",
     "status": "completed"
    },
    "tags": []
   },
   "outputs": [],
   "source": [
    "cosine_sim2 = cosine_similarity(tfidf_matrix2, tfidf_matrix2)"
   ]
  },
  {
   "cell_type": "code",
   "execution_count": 29,
   "id": "fc4235b5",
   "metadata": {
    "execution": {
     "iopub.execute_input": "2023-10-09T12:09:33.646841Z",
     "iopub.status.busy": "2023-10-09T12:09:33.646455Z",
     "iopub.status.idle": "2023-10-09T12:09:33.653660Z",
     "shell.execute_reply": "2023-10-09T12:09:33.652626Z"
    },
    "papermill": {
     "duration": 0.022501,
     "end_time": "2023-10-09T12:09:33.655853",
     "exception": false,
     "start_time": "2023-10-09T12:09:33.633352",
     "status": "completed"
    },
    "tags": []
   },
   "outputs": [],
   "source": [
    "def recommend(game, num_recommendations=10):\n",
    "    # Find the index of the input game in the DataFrame\n",
    "    game_index = df2[df2['Title'] == game].index\n",
    "    if not game_index.empty:\n",
    "        game_index = game_index[0]\n",
    "    else:\n",
    "        return \"Game not found in the dataset.\"\n",
    "\n",
    "    # Compute cosine similarity scores for the input game\n",
    "    cosine_scores = list(enumerate(cosine_sim2[game_index]))\n",
    "\n",
    "    # Sort the games by similarity score in descending order\n",
    "    cosine_scores = sorted(cosine_scores, key=lambda x: x[1], reverse=True)\n",
    "\n",
    "    # Exclude the input game (it will have a similarity score of 1 with itself)\n",
    "    cosine_scores = cosine_scores[1:]\n",
    "\n",
    "    # Get the indices of the top N similar games\n",
    "    top_indices = [x[0] for x in cosine_scores[:num_recommendations]]\n",
    "\n",
    "    # Return a DataFrame with the recommended games' details\n",
    "    recommended_games = df2.iloc[top_indices][['Title', 'Year', 'Genre', 'Certificate', 'User Rating']]\n",
    "    \n",
    "    return recommended_games\n"
   ]
  },
  {
   "cell_type": "code",
   "execution_count": 30,
   "id": "d1c48b7d",
   "metadata": {
    "execution": {
     "iopub.execute_input": "2023-10-09T12:09:33.682761Z",
     "iopub.status.busy": "2023-10-09T12:09:33.682426Z",
     "iopub.status.idle": "2023-10-09T12:09:33.707738Z",
     "shell.execute_reply": "2023-10-09T12:09:33.706990Z"
    },
    "papermill": {
     "duration": 0.041417,
     "end_time": "2023-10-09T12:09:33.709905",
     "exception": false,
     "start_time": "2023-10-09T12:09:33.668488",
     "status": "completed"
    },
    "tags": []
   },
   "outputs": [
    {
     "name": "stdout",
     "output_type": "stream",
     "text": [
      "Recommendations for 'Grand Theft Auto V':\n"
     ]
    },
    {
     "data": {
      "text/html": [
       "<div>\n",
       "<style scoped>\n",
       "    .dataframe tbody tr th:only-of-type {\n",
       "        vertical-align: middle;\n",
       "    }\n",
       "\n",
       "    .dataframe tbody tr th {\n",
       "        vertical-align: top;\n",
       "    }\n",
       "\n",
       "    .dataframe thead th {\n",
       "        text-align: right;\n",
       "    }\n",
       "</style>\n",
       "<table border=\"1\" class=\"dataframe\">\n",
       "  <thead>\n",
       "    <tr style=\"text-align: right;\">\n",
       "      <th></th>\n",
       "      <th>Title</th>\n",
       "      <th>Year</th>\n",
       "      <th>Genre</th>\n",
       "      <th>Certificate</th>\n",
       "      <th>User Rating</th>\n",
       "    </tr>\n",
       "    <tr>\n",
       "      <th>Popularity</th>\n",
       "      <th></th>\n",
       "      <th></th>\n",
       "      <th></th>\n",
       "      <th></th>\n",
       "      <th></th>\n",
       "    </tr>\n",
       "  </thead>\n",
       "  <tbody>\n",
       "    <tr>\n",
       "      <th>492</th>\n",
       "      <td>Grand Theft Auto 2</td>\n",
       "      <td>1999.0</td>\n",
       "      <td>Action, Crime</td>\n",
       "      <td>M</td>\n",
       "      <td>7.5</td>\n",
       "    </tr>\n",
       "    <tr>\n",
       "      <th>610</th>\n",
       "      <td>Grand Theft Auto Online</td>\n",
       "      <td>2013.0</td>\n",
       "      <td>Action, Crime, Drama</td>\n",
       "      <td>M</td>\n",
       "      <td>6.9</td>\n",
       "    </tr>\n",
       "    <tr>\n",
       "      <th>780</th>\n",
       "      <td>Grand Theft Auto: The Trilogy - The Definitive...</td>\n",
       "      <td>2021.0</td>\n",
       "      <td>Action, Adventure, Comedy</td>\n",
       "      <td>M</td>\n",
       "      <td>4.0</td>\n",
       "    </tr>\n",
       "    <tr>\n",
       "      <th>653</th>\n",
       "      <td>Grand Theft Auto: Episodes from Liberty City</td>\n",
       "      <td>2009.0</td>\n",
       "      <td>Action, Crime, Drama</td>\n",
       "      <td>M</td>\n",
       "      <td>8.4</td>\n",
       "    </tr>\n",
       "    <tr>\n",
       "      <th>1113</th>\n",
       "      <td>Grand Theft Auto: London, 1969</td>\n",
       "      <td>1999.0</td>\n",
       "      <td>Action, Crime</td>\n",
       "      <td>M</td>\n",
       "      <td>7.0</td>\n",
       "    </tr>\n",
       "    <tr>\n",
       "      <th>3533</th>\n",
       "      <td>Agent Cody Banks: Escape from Los Santos</td>\n",
       "      <td>2019.0</td>\n",
       "      <td>Action</td>\n",
       "      <td>NaN</td>\n",
       "      <td>6.5</td>\n",
       "    </tr>\n",
       "    <tr>\n",
       "      <th>1483</th>\n",
       "      <td>Grand Theft Auto: London, 1961</td>\n",
       "      <td>1999.0</td>\n",
       "      <td>Action, Crime</td>\n",
       "      <td>18</td>\n",
       "      <td>7.0</td>\n",
       "    </tr>\n",
       "    <tr>\n",
       "      <th>367</th>\n",
       "      <td>Grand Theft Auto</td>\n",
       "      <td>1997.0</td>\n",
       "      <td>Action, Comedy, Crime</td>\n",
       "      <td>M</td>\n",
       "      <td>7.8</td>\n",
       "    </tr>\n",
       "    <tr>\n",
       "      <th>87</th>\n",
       "      <td>Grand Theft Auto III</td>\n",
       "      <td>2001.0</td>\n",
       "      <td>Action, Crime, Drama</td>\n",
       "      <td>M</td>\n",
       "      <td>8.7</td>\n",
       "    </tr>\n",
       "    <tr>\n",
       "      <th>1138</th>\n",
       "      <td>Payday: The Heist</td>\n",
       "      <td>2011.0</td>\n",
       "      <td>Action, Crime</td>\n",
       "      <td>M</td>\n",
       "      <td>6.9</td>\n",
       "    </tr>\n",
       "  </tbody>\n",
       "</table>\n",
       "</div>"
      ],
      "text/plain": [
       "                                                        Title    Year  \\\n",
       "Popularity                                                              \n",
       "492                                        Grand Theft Auto 2  1999.0   \n",
       "610                                   Grand Theft Auto Online  2013.0   \n",
       "780         Grand Theft Auto: The Trilogy - The Definitive...  2021.0   \n",
       "653              Grand Theft Auto: Episodes from Liberty City  2009.0   \n",
       "1113                           Grand Theft Auto: London, 1969  1999.0   \n",
       "3533                 Agent Cody Banks: Escape from Los Santos  2019.0   \n",
       "1483                           Grand Theft Auto: London, 1961  1999.0   \n",
       "367                                          Grand Theft Auto  1997.0   \n",
       "87                                       Grand Theft Auto III  2001.0   \n",
       "1138                                        Payday: The Heist  2011.0   \n",
       "\n",
       "                                Genre Certificate  User Rating  \n",
       "Popularity                                                      \n",
       "492                     Action, Crime           M          7.5  \n",
       "610              Action, Crime, Drama           M          6.9  \n",
       "780         Action, Adventure, Comedy           M          4.0  \n",
       "653              Action, Crime, Drama           M          8.4  \n",
       "1113                    Action, Crime           M          7.0  \n",
       "3533                           Action         NaN          6.5  \n",
       "1483                    Action, Crime          18          7.0  \n",
       "367             Action, Comedy, Crime           M          7.8  \n",
       "87               Action, Crime, Drama           M          8.7  \n",
       "1138                    Action, Crime           M          6.9  "
      ]
     },
     "metadata": {},
     "output_type": "display_data"
    }
   ],
   "source": [
    "user_input1 = \"Grand Theft Auto V\"\n",
    "recommendations1 = recommend(user_input1)\n",
    "\n",
    "# It checks if recommendations1 is a string (which would indicate an error message) using isinstance. \n",
    "# If it's a string, it prints the error message directly.\n",
    "if isinstance(recommendations1, str):\n",
    "    print(recommendations1)\n",
    "else:\n",
    "    print(f\"Recommendations for '{user_input1}':\")\n",
    "    display(recommendations1)\n"
   ]
  },
  {
   "cell_type": "code",
   "execution_count": 31,
   "id": "0bb20556",
   "metadata": {
    "execution": {
     "iopub.execute_input": "2023-10-09T12:09:33.735862Z",
     "iopub.status.busy": "2023-10-09T12:09:33.735527Z",
     "iopub.status.idle": "2023-10-09T12:09:33.763596Z",
     "shell.execute_reply": "2023-10-09T12:09:33.761966Z"
    },
    "papermill": {
     "duration": 0.043745,
     "end_time": "2023-10-09T12:09:33.765822",
     "exception": false,
     "start_time": "2023-10-09T12:09:33.722077",
     "status": "completed"
    },
    "tags": []
   },
   "outputs": [
    {
     "name": "stdout",
     "output_type": "stream",
     "text": [
      "Recommendations for 'Red Dead Redemption II':\n"
     ]
    },
    {
     "data": {
      "text/html": [
       "<div>\n",
       "<style scoped>\n",
       "    .dataframe tbody tr th:only-of-type {\n",
       "        vertical-align: middle;\n",
       "    }\n",
       "\n",
       "    .dataframe tbody tr th {\n",
       "        vertical-align: top;\n",
       "    }\n",
       "\n",
       "    .dataframe thead th {\n",
       "        text-align: right;\n",
       "    }\n",
       "</style>\n",
       "<table border=\"1\" class=\"dataframe\">\n",
       "  <thead>\n",
       "    <tr style=\"text-align: right;\">\n",
       "      <th></th>\n",
       "      <th>Title</th>\n",
       "      <th>Year</th>\n",
       "      <th>Genre</th>\n",
       "      <th>Certificate</th>\n",
       "      <th>User Rating</th>\n",
       "    </tr>\n",
       "    <tr>\n",
       "      <th>Popularity</th>\n",
       "      <th></th>\n",
       "      <th></th>\n",
       "      <th></th>\n",
       "      <th></th>\n",
       "      <th></th>\n",
       "    </tr>\n",
       "  </thead>\n",
       "  <tbody>\n",
       "    <tr>\n",
       "      <th>15</th>\n",
       "      <td>Red Dead Redemption</td>\n",
       "      <td>2010.0</td>\n",
       "      <td>Action, Adventure, Crime</td>\n",
       "      <td>M</td>\n",
       "      <td>9.4</td>\n",
       "    </tr>\n",
       "    <tr>\n",
       "      <th>3595</th>\n",
       "      <td>Dead or Alive 2</td>\n",
       "      <td>2000.0</td>\n",
       "      <td>Action, Family, Mystery</td>\n",
       "      <td>T</td>\n",
       "      <td>7.2</td>\n",
       "    </tr>\n",
       "    <tr>\n",
       "      <th>1148</th>\n",
       "      <td>Red Dead Online</td>\n",
       "      <td>2019.0</td>\n",
       "      <td>Action, Adventure, Crime</td>\n",
       "      <td>M</td>\n",
       "      <td>6.4</td>\n",
       "    </tr>\n",
       "    <tr>\n",
       "      <th>6159</th>\n",
       "      <td>Wild, Wild West: The Steel Assassin</td>\n",
       "      <td>1999.0</td>\n",
       "      <td>Action, Adventure, Mystery</td>\n",
       "      <td>T</td>\n",
       "      <td>7.0</td>\n",
       "    </tr>\n",
       "    <tr>\n",
       "      <th>4326</th>\n",
       "      <td>King Arthur</td>\n",
       "      <td>2004.0</td>\n",
       "      <td>Action, Adventure, Drama</td>\n",
       "      <td>T</td>\n",
       "      <td>6.7</td>\n",
       "    </tr>\n",
       "    <tr>\n",
       "      <th>13055</th>\n",
       "      <td>Lead and Gold: Gangs of the Wild West</td>\n",
       "      <td>2010.0</td>\n",
       "      <td>Action, Western</td>\n",
       "      <td>NaN</td>\n",
       "      <td>5.5</td>\n",
       "    </tr>\n",
       "    <tr>\n",
       "      <th>4487</th>\n",
       "      <td>Empire Earth II</td>\n",
       "      <td>2005.0</td>\n",
       "      <td>Action, Adventure, Fantasy</td>\n",
       "      <td>T</td>\n",
       "      <td>6.4</td>\n",
       "    </tr>\n",
       "    <tr>\n",
       "      <th>3099</th>\n",
       "      <td>Operation Flashpoint: Red River</td>\n",
       "      <td>2011.0</td>\n",
       "      <td>Action, War</td>\n",
       "      <td>M</td>\n",
       "      <td>6.5</td>\n",
       "    </tr>\n",
       "    <tr>\n",
       "      <th>147</th>\n",
       "      <td>Red Dead Revolver</td>\n",
       "      <td>2004.0</td>\n",
       "      <td>Action, Adventure, Drama</td>\n",
       "      <td>M</td>\n",
       "      <td>7.8</td>\n",
       "    </tr>\n",
       "    <tr>\n",
       "      <th>283</th>\n",
       "      <td>The Warriors</td>\n",
       "      <td>2005.0</td>\n",
       "      <td>Action, Crime, Thriller</td>\n",
       "      <td>M</td>\n",
       "      <td>8.9</td>\n",
       "    </tr>\n",
       "  </tbody>\n",
       "</table>\n",
       "</div>"
      ],
      "text/plain": [
       "                                            Title    Year  \\\n",
       "Popularity                                                  \n",
       "15                            Red Dead Redemption  2010.0   \n",
       "3595                              Dead or Alive 2  2000.0   \n",
       "1148                              Red Dead Online  2019.0   \n",
       "6159          Wild, Wild West: The Steel Assassin  1999.0   \n",
       "4326                                  King Arthur  2004.0   \n",
       "13055       Lead and Gold: Gangs of the Wild West  2010.0   \n",
       "4487                              Empire Earth II  2005.0   \n",
       "3099              Operation Flashpoint: Red River  2011.0   \n",
       "147                             Red Dead Revolver  2004.0   \n",
       "283                                  The Warriors  2005.0   \n",
       "\n",
       "                                 Genre Certificate  User Rating  \n",
       "Popularity                                                       \n",
       "15            Action, Adventure, Crime           M          9.4  \n",
       "3595           Action, Family, Mystery           T          7.2  \n",
       "1148          Action, Adventure, Crime           M          6.4  \n",
       "6159        Action, Adventure, Mystery           T          7.0  \n",
       "4326          Action, Adventure, Drama           T          6.7  \n",
       "13055                  Action, Western         NaN          5.5  \n",
       "4487        Action, Adventure, Fantasy           T          6.4  \n",
       "3099                       Action, War           M          6.5  \n",
       "147           Action, Adventure, Drama           M          7.8  \n",
       "283            Action, Crime, Thriller           M          8.9  "
      ]
     },
     "metadata": {},
     "output_type": "display_data"
    }
   ],
   "source": [
    "user_input2 = \"Red Dead Redemption II\"\n",
    "recommendations2 = recommend(user_input2)\n",
    "\n",
    "# It checks if recommendations2 is a string (which would indicate an error message) using isinstance. \n",
    "# If it's a string, it prints the error message directly.\n",
    "if isinstance(recommendations2, str):\n",
    "    print(recommendations2)\n",
    "else:\n",
    "    print(f\"Recommendations for '{user_input2}':\")\n",
    "    display(recommendations2)\n"
   ]
  },
  {
   "cell_type": "markdown",
   "id": "13dfa048",
   "metadata": {
    "papermill": {
     "duration": 0.012821,
     "end_time": "2023-10-09T12:09:33.791997",
     "exception": false,
     "start_time": "2023-10-09T12:09:33.779176",
     "status": "completed"
    },
    "tags": []
   },
   "source": [
    "`If you find this helpful, please consider sharing it and giving it an upvote! Your support is appreciated.`"
   ]
  },
  {
   "cell_type": "markdown",
   "id": "eeeac9b6",
   "metadata": {
    "papermill": {
     "duration": 0.012873,
     "end_time": "2023-10-09T12:09:33.818828",
     "exception": false,
     "start_time": "2023-10-09T12:09:33.805955",
     "status": "completed"
    },
    "tags": []
   },
   "source": [
    "# Other insightful datasets, and data science notebooks you may be interested:\n",
    "\n",
    "| Dataset | URL |\n",
    "| -- | -- |\n",
    "|Top 240 Recommended Restaurants in L.A. 2023 | [link](https://www.kaggle.com/datasets/lorentzyeung/top-240-recommended-restaurants-in-la-2023)|\n",
    "|Top 240 Recommended Restaurants in New York 2023 | [link](https://www.kaggle.com/datasets/lorentzyeung/top-240-recommended-restaurants-in-new-york-2023) |\n",
    "|10 latest reviews of each London Mcdonald's | [link](https://www.kaggle.com/datasets/lorentzyeung/top-10-recent-comments-of-all-london-mcdonalds) |\n",
    "|IMDb Action Video Games Dataset | [link](https://www.kaggle.com/datasets/lorentzyeung/imdb-video-games-dataset)  |\n",
    "|Japanese Anime: An In-Depth IMDb Data Set | [link](https://www.kaggle.com/datasets/lorentzyeung/all-japanese-anime-titles-in-imdb)  |\n",
    "\n",
    "--\n",
    "\n",
    "| Notebook | URL |\n",
    "| -- | -- |\n",
    "|Sentiment Analysis for L.A. Restaurants 2023 | [link](https://www.kaggle.com/code/lorentzyeung/sentiment-analysis-for-l-a-restaurants-2023)|\n",
    "|Sentiment Analysis for New York Restaurants 2023 | [link](https://www.kaggle.com/code/lorentzyeung/sentiment-analysis-for-new-york-restaurants-2023) |\n",
    "|Social Listening for London Mcdonald's | [link](https://www.kaggle.com/code/lorentzyeung/social-listening-for-london-mcdonald-s) |\n",
    "|Action Game Topic Analysis & Recommendation System | [link](https://www.kaggle.com/code/lorentzyeung/action-game-topic-analysis-recommendation-system)  |\n",
    "|Anime Data EDA and Worldcloud | [link](https://www.kaggle.com/code/lorentzyeung/anime-data-eda-worldcloud)  |\n",
    "\n",
    "Please don't forget to share it and giving it an upvote! Your support is appreciated.`"
   ]
  },
  {
   "cell_type": "code",
   "execution_count": null,
   "id": "036123c0",
   "metadata": {
    "papermill": {
     "duration": 0.012241,
     "end_time": "2023-10-09T12:09:33.843767",
     "exception": false,
     "start_time": "2023-10-09T12:09:33.831526",
     "status": "completed"
    },
    "tags": []
   },
   "outputs": [],
   "source": []
  }
 ],
 "metadata": {
  "kernelspec": {
   "display_name": "Python 3",
   "language": "python",
   "name": "python3"
  },
  "language_info": {
   "codemirror_mode": {
    "name": "ipython",
    "version": 3
   },
   "file_extension": ".py",
   "mimetype": "text/x-python",
   "name": "python",
   "nbconvert_exporter": "python",
   "pygments_lexer": "ipython3",
   "version": "3.10.12"
  },
  "papermill": {
   "default_parameters": {},
   "duration": 40.910344,
   "end_time": "2023-10-09T12:09:34.578991",
   "environment_variables": {},
   "exception": null,
   "input_path": "__notebook__.ipynb",
   "output_path": "__notebook__.ipynb",
   "parameters": {},
   "start_time": "2023-10-09T12:08:53.668647",
   "version": "2.4.0"
  }
 },
 "nbformat": 4,
 "nbformat_minor": 5
}
